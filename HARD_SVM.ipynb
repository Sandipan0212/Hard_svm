{
 "cells": [
  {
   "cell_type": "code",
   "execution_count": 91,
   "metadata": {
    "id": "H9_DtooTq119"
   },
   "outputs": [],
   "source": [
    "import pandas as pd\n",
    "%matplotlib inline\n",
    "import numpy as np\n",
    "import matplotlib.pyplot as plt\n",
    "from scipy import optimize\n",
    "from sklearn.model_selection import train_test_split\n",
    "import statistics as st\n",
    "from cvxopt import matrix, solvers"
   ]
  },
  {
   "cell_type": "code",
   "execution_count": 91,
   "metadata": {
    "id": "sJt0pn-n9ZO1"
   },
   "outputs": [],
   "source": []
  },
  {
   "cell_type": "code",
   "execution_count": 92,
   "metadata": {
    "colab": {
     "base_uri": "https://localhost:8080/",
     "height": 419
    },
    "id": "4I7Nu1mOrFaI",
    "outputId": "3d29b0f9-c722-434f-c61d-96819566b213"
   },
   "outputs": [
    {
     "data": {
      "text/html": [
       "<div>\n",
       "<style scoped>\n",
       "    .dataframe tbody tr th:only-of-type {\n",
       "        vertical-align: middle;\n",
       "    }\n",
       "\n",
       "    .dataframe tbody tr th {\n",
       "        vertical-align: top;\n",
       "    }\n",
       "\n",
       "    .dataframe thead th {\n",
       "        text-align: right;\n",
       "    }\n",
       "</style>\n",
       "<table border=\"1\" class=\"dataframe\">\n",
       "  <thead>\n",
       "    <tr style=\"text-align: right;\">\n",
       "      <th></th>\n",
       "      <th>SepalLengthCm</th>\n",
       "      <th>SepalWidthCm</th>\n",
       "      <th>PetalLengthCm</th>\n",
       "      <th>PetalWidthCm</th>\n",
       "      <th>Species</th>\n",
       "    </tr>\n",
       "  </thead>\n",
       "  <tbody>\n",
       "    <tr>\n",
       "      <th>0</th>\n",
       "      <td>5.1</td>\n",
       "      <td>3.5</td>\n",
       "      <td>1.4</td>\n",
       "      <td>0.2</td>\n",
       "      <td>0</td>\n",
       "    </tr>\n",
       "    <tr>\n",
       "      <th>1</th>\n",
       "      <td>4.9</td>\n",
       "      <td>3.0</td>\n",
       "      <td>1.4</td>\n",
       "      <td>0.2</td>\n",
       "      <td>0</td>\n",
       "    </tr>\n",
       "    <tr>\n",
       "      <th>2</th>\n",
       "      <td>4.7</td>\n",
       "      <td>3.2</td>\n",
       "      <td>1.3</td>\n",
       "      <td>0.2</td>\n",
       "      <td>0</td>\n",
       "    </tr>\n",
       "    <tr>\n",
       "      <th>3</th>\n",
       "      <td>4.6</td>\n",
       "      <td>3.1</td>\n",
       "      <td>1.5</td>\n",
       "      <td>0.2</td>\n",
       "      <td>0</td>\n",
       "    </tr>\n",
       "    <tr>\n",
       "      <th>4</th>\n",
       "      <td>5.0</td>\n",
       "      <td>3.6</td>\n",
       "      <td>1.4</td>\n",
       "      <td>0.2</td>\n",
       "      <td>0</td>\n",
       "    </tr>\n",
       "    <tr>\n",
       "      <th>...</th>\n",
       "      <td>...</td>\n",
       "      <td>...</td>\n",
       "      <td>...</td>\n",
       "      <td>...</td>\n",
       "      <td>...</td>\n",
       "    </tr>\n",
       "    <tr>\n",
       "      <th>95</th>\n",
       "      <td>5.7</td>\n",
       "      <td>3.0</td>\n",
       "      <td>4.2</td>\n",
       "      <td>1.2</td>\n",
       "      <td>1</td>\n",
       "    </tr>\n",
       "    <tr>\n",
       "      <th>96</th>\n",
       "      <td>5.7</td>\n",
       "      <td>2.9</td>\n",
       "      <td>4.2</td>\n",
       "      <td>1.3</td>\n",
       "      <td>1</td>\n",
       "    </tr>\n",
       "    <tr>\n",
       "      <th>97</th>\n",
       "      <td>6.2</td>\n",
       "      <td>2.9</td>\n",
       "      <td>4.3</td>\n",
       "      <td>1.3</td>\n",
       "      <td>1</td>\n",
       "    </tr>\n",
       "    <tr>\n",
       "      <th>98</th>\n",
       "      <td>5.1</td>\n",
       "      <td>2.5</td>\n",
       "      <td>3.0</td>\n",
       "      <td>1.1</td>\n",
       "      <td>1</td>\n",
       "    </tr>\n",
       "    <tr>\n",
       "      <th>99</th>\n",
       "      <td>5.7</td>\n",
       "      <td>2.8</td>\n",
       "      <td>4.1</td>\n",
       "      <td>1.3</td>\n",
       "      <td>1</td>\n",
       "    </tr>\n",
       "  </tbody>\n",
       "</table>\n",
       "<p>100 rows × 5 columns</p>\n",
       "</div>"
      ],
      "text/plain": [
       "    SepalLengthCm  SepalWidthCm  PetalLengthCm  PetalWidthCm  Species\n",
       "0             5.1           3.5            1.4           0.2        0\n",
       "1             4.9           3.0            1.4           0.2        0\n",
       "2             4.7           3.2            1.3           0.2        0\n",
       "3             4.6           3.1            1.5           0.2        0\n",
       "4             5.0           3.6            1.4           0.2        0\n",
       "..            ...           ...            ...           ...      ...\n",
       "95            5.7           3.0            4.2           1.2        1\n",
       "96            5.7           2.9            4.2           1.3        1\n",
       "97            6.2           2.9            4.3           1.3        1\n",
       "98            5.1           2.5            3.0           1.1        1\n",
       "99            5.7           2.8            4.1           1.3        1\n",
       "\n",
       "[100 rows x 5 columns]"
      ]
     },
     "execution_count": 92,
     "metadata": {},
     "output_type": "execute_result"
    }
   ],
   "source": [
    "df=pd.read_csv(\"/content/Iris1.csv\")\n",
    "df"
   ]
  },
  {
   "cell_type": "code",
   "execution_count": 93,
   "metadata": {
    "id": "lnS0L6k6rVhb"
   },
   "outputs": [],
   "source": [
    "## here 0 stands for setosa and 1 stands for versicolor\n",
    "\n",
    "x=df.iloc[:,:-1].values\n",
    "y=df.iloc[:,-1].values\n"
   ]
  },
  {
   "cell_type": "code",
   "execution_count": 94,
   "metadata": {
    "colab": {
     "base_uri": "https://localhost:8080/"
    },
    "id": "BuC4FWr7rjJQ",
    "outputId": "0fab6116-7202-4b66-9b4d-cb26f3e1b80f"
   },
   "outputs": [
    {
     "name": "stdout",
     "output_type": "stream",
     "text": [
      "x[1]=[4.9 3.  1.4 0.2] y[1]=0\n"
     ]
    }
   ],
   "source": [
    "m,n = x.shape\n",
    "print('x[1]={} y[1]={}'.format(x[1],y[1]))"
   ]
  },
  {
   "cell_type": "code",
   "execution_count": 95,
   "metadata": {
    "id": "CA4hmefjrmof"
   },
   "outputs": [],
   "source": [
    "df0 = df[:49]\n",
    "df1 = df[49:]\n"
   ]
  },
  {
   "cell_type": "code",
   "execution_count": 96,
   "metadata": {
    "id": "TDLChWqBrqyz"
   },
   "outputs": [],
   "source": [
    "import matplotlib.pyplot as plt\n",
    "%matplotlib inline"
   ]
  },
  {
   "cell_type": "code",
   "execution_count": 97,
   "metadata": {
    "colab": {
     "base_uri": "https://localhost:8080/",
     "height": 299
    },
    "id": "F14x-3wlrwIF",
    "outputId": "52d125b4-e723-4198-8636-b1ac980da75c"
   },
   "outputs": [
    {
     "data": {
      "text/plain": [
       "<matplotlib.collections.PathCollection at 0x7f97a3a990d0>"
      ]
     },
     "execution_count": 97,
     "metadata": {},
     "output_type": "execute_result"
    },
    {
     "data": {
      "image/png": "[encoded data removed]",
      "text/plain": [
       "<Figure size 432x288 with 1 Axes>"
      ]
     },
     "metadata": {
      "needs_background": "light"
     },
     "output_type": "display_data"
    }
   ],
   "source": [
    "plt.xlabel('Sepal Length')\n",
    "plt.ylabel('Sepal Width')\n",
    "plt.scatter(df0['SepalLengthCm'], df0['SepalWidthCm'],color=\"green\",marker='+')\n",
    "plt.scatter(df1['SepalLengthCm'], df1['SepalWidthCm'],color=\"blue\",marker='.')"
   ]
  },
  {
   "cell_type": "code",
   "execution_count": 98,
   "metadata": {
    "colab": {
     "base_uri": "https://localhost:8080/",
     "height": 296
    },
    "id": "QywtDbeOrybl",
    "outputId": "3b49d514-aaa3-47a2-885f-39d8a190aa10"
   },
   "outputs": [
    {
     "data": {
      "text/plain": [
       "<matplotlib.collections.PathCollection at 0x7f97a3a85050>"
      ]
     },
     "execution_count": 98,
     "metadata": {},
     "output_type": "execute_result"
    },
    {
     "data": {
      "image/png": "[encoded data removed]",
      "text/plain": [
       "<Figure size 432x288 with 1 Axes>"
      ]
     },
     "metadata": {
      "needs_background": "light"
     },
     "output_type": "display_data"
    }
   ],
   "source": [
    "plt.xlabel('petal Length')\n",
    "plt.ylabel('petal Width')\n",
    "plt.scatter(df0['PetalLengthCm'], df0['PetalWidthCm'],color=\"green\",marker='+')\n",
    "plt.scatter(df1['PetalLengthCm'], df1['PetalWidthCm'],color=\"blue\",marker='.')"
   ]
  },
  {
   "cell_type": "code",
   "execution_count": 99,
   "metadata": {
    "id": "2zBOVpILr4wD"
   },
   "outputs": [],
   "source": [
    "from sklearn.model_selection import train_test_split"
   ]
  },
  {
   "cell_type": "code",
   "execution_count": 100,
   "metadata": {
    "id": "GHMpMaxgr488"
   },
   "outputs": [],
   "source": [
    "X = df.drop(['Species'], axis='columns')\n",
    "y = df.Species"
   ]
  },
  {
   "cell_type": "code",
   "execution_count": 101,
   "metadata": {
    "id": "5EuLXfW9r5IA"
   },
   "outputs": [],
   "source": [
    "X_train, X_test, y_train, y_test = train_test_split(X, y, test_size=0.2)"
   ]
  },
  {
   "cell_type": "code",
   "execution_count": 102,
   "metadata": {
    "colab": {
     "base_uri": "https://localhost:8080/"
    },
    "id": "GkhZ3ax79tz7",
    "outputId": "436b7436-cca2-4556-9829-9d6130ad2f50"
   },
   "outputs": [
    {
     "data": {
      "text/plain": [
       "pandas.core.series.Series"
      ]
     },
     "execution_count": 102,
     "metadata": {},
     "output_type": "execute_result"
    }
   ],
   "source": [
    "type(y_train)"
   ]
  },
  {
   "cell_type": "code",
   "execution_count": 103,
   "metadata": {
    "colab": {
     "base_uri": "https://localhost:8080/"
    },
    "id": "OC2dS86Er_29",
    "outputId": "a047cc51-49f5-4b74-c095-b84f8ccd8a31"
   },
   "outputs": [
    {
     "data": {
      "text/plain": [
       "80"
      ]
     },
     "execution_count": 103,
     "metadata": {},
     "output_type": "execute_result"
    }
   ],
   "source": [
    "m0 = len(X_train)\n",
    "m0"
   ]
  },
  {
   "cell_type": "code",
   "execution_count": 104,
   "metadata": {
    "colab": {
     "base_uri": "https://localhost:8080/"
    },
    "id": "cwx9zv82sADt",
    "outputId": "480f7db5-ff2f-49c9-c0a7-7276e53b14b0"
   },
   "outputs": [
    {
     "data": {
      "text/plain": [
       "4"
      ]
     },
     "execution_count": 104,
     "metadata": {},
     "output_type": "execute_result"
    }
   ],
   "source": [
    "w0 = len(X_train.columns)\n",
    "w0"
   ]
  },
  {
   "cell_type": "code",
   "execution_count": 105,
   "metadata": {
    "colab": {
     "base_uri": "https://localhost:8080/"
    },
    "id": "QOo8zzKosAOm",
    "outputId": "9b60a4b0-0e4e-4176-f770-d959c40cec3e"
   },
   "outputs": [
    {
     "data": {
      "text/plain": [
       "20"
      ]
     },
     "execution_count": 105,
     "metadata": {},
     "output_type": "execute_result"
    }
   ],
   "source": [
    "len(X_test)"
   ]
  },
  {
   "cell_type": "code",
   "execution_count": 106,
   "metadata": {
    "id": "qwm5FALpsVXL"
   },
   "outputs": [],
   "source": [
    "import statistics as st"
   ]
  },
  {
   "cell_type": "code",
   "execution_count": 107,
   "metadata": {
    "id": "jBmNuJpYsZTa"
   },
   "outputs": [],
   "source": [
    "from scipy import optimize"
   ]
  },
  {
   "cell_type": "code",
   "execution_count": 108,
   "metadata": {
    "colab": {
     "base_uri": "https://localhost:8080/"
    },
    "id": "_OKx313WsZX6",
    "outputId": "c500eef9-a16c-4def-f888-daeb71bb77e4"
   },
   "outputs": [
    {
     "data": {
      "text/plain": [
       "5"
      ]
     },
     "execution_count": 108,
     "metadata": {},
     "output_type": "execute_result"
    }
   ],
   "source": [
    "length=len(df)\n",
    "width=len(df.columns)\n",
    "width"
   ]
  },
  {
   "cell_type": "code",
   "execution_count": 109,
   "metadata": {
    "colab": {
     "base_uri": "https://localhost:8080/"
    },
    "id": "0N55sHDIsZfB",
    "outputId": "b9f31489-8987-4b3d-e6f9-88ef95639087"
   },
   "outputs": [
    {
     "name": "stdout",
     "output_type": "stream",
     "text": [
      "(80, 4)\n"
     ]
    },
    {
     "data": {
      "text/plain": [
       "cvxopt.base.matrix"
      ]
     },
     "execution_count": 109,
     "metadata": {},
     "output_type": "execute_result"
    }
   ],
   "source": [
    "print(X_train.shape)\n",
    "P= matrix((np.identity(4)))\n",
    "type(P)"
   ]
  },
  {
   "cell_type": "code",
   "execution_count": 110,
   "metadata": {
    "colab": {
     "base_uri": "https://localhost:8080/"
    },
    "id": "pXO0lkC2tWyy",
    "outputId": "ddf9c2fc-fa8e-42e6-fead-d0c80fb79065"
   },
   "outputs": [
    {
     "name": "stdout",
     "output_type": "stream",
     "text": [
      "[ 1.00e+00  0.00e+00  0.00e+00  0.00e+00]\n",
      "[ 0.00e+00  1.00e+00  0.00e+00  0.00e+00]\n",
      "[ 0.00e+00  0.00e+00  1.00e+00  0.00e+00]\n",
      "[ 0.00e+00  0.00e+00  0.00e+00  1.00e+00]\n",
      "\n"
     ]
    }
   ],
   "source": [
    "print(P)"
   ]
  },
  {
   "cell_type": "code",
   "execution_count": 111,
   "metadata": {
    "colab": {
     "base_uri": "https://localhost:8080/"
    },
    "id": "I5o5-RjHtW37",
    "outputId": "52980d38-16e7-4b46-c0e4-0cbd910735c4"
   },
   "outputs": [
    {
     "name": "stdout",
     "output_type": "stream",
     "text": [
      "(4, 1)\n"
     ]
    }
   ],
   "source": [
    "Q=matrix(np.zeros(4).reshape(4,1))\n",
    "type(Q)\n",
    "print(Q.size)"
   ]
  },
  {
   "cell_type": "code",
   "execution_count": 112,
   "metadata": {
    "colab": {
     "base_uri": "https://localhost:8080/"
    },
    "id": "nfeCpDW9tW9m",
    "outputId": "c59a947c-5dba-4da8-884a-8c8d8729fe9c"
   },
   "outputs": [
    {
     "name": "stdout",
     "output_type": "stream",
     "text": [
      "[ 0.00e+00]\n",
      "[ 0.00e+00]\n",
      "[ 0.00e+00]\n",
      "[ 0.00e+00]\n",
      "\n"
     ]
    }
   ],
   "source": [
    "print(Q)"
   ]
  },
  {
   "cell_type": "code",
   "execution_count": 113,
   "metadata": {
    "colab": {
     "base_uri": "https://localhost:8080/"
    },
    "id": "ht2PDQSQtteZ",
    "outputId": "b768ccf6-786b-4d97-952f-e4716d5adb59"
   },
   "outputs": [
    {
     "name": "stdout",
     "output_type": "stream",
     "text": [
      "(80, 1)\n"
     ]
    }
   ],
   "source": [
    "H=matrix((np.ones(80).reshape(80,1))*(-1))\n",
    "type(H)\n",
    "print(H.size)"
   ]
  },
  {
   "cell_type": "code",
   "execution_count": 114,
   "metadata": {
    "colab": {
     "base_uri": "https://localhost:8080/",
     "height": 609
    },
    "id": "95vFQ-GMttm1",
    "outputId": "70b7e2a1-94dd-4139-e8e4-2bbe099e2f4d"
   },
   "outputs": [
    {
     "name": "stderr",
     "output_type": "stream",
     "text": [
      "/usr/local/lib/python3.7/dist-packages/pandas/core/indexing.py:670: SettingWithCopyWarning: \n",
      "A value is trying to be set on a copy of a slice from a DataFrame\n",
      "\n",
      "See the caveats in the documentation: https://pandas.pydata.org/pandas-docs/stable/user_guide/indexing.html#returning-a-view-versus-a-copy\n",
      "  iloc._setitem_with_indexer(indexer, value)\n",
      "/usr/local/lib/python3.7/dist-packages/ipykernel_launcher.py:5: SettingWithCopyWarning: \n",
      "A value is trying to be set on a copy of a slice from a DataFrame\n",
      "\n",
      "See the caveats in the documentation: https://pandas.pydata.org/pandas-docs/stable/user_guide/indexing.html#returning-a-view-versus-a-copy\n",
      "  \"\"\"\n"
     ]
    },
    {
     "data": {
      "text/html": [
       "<div>\n",
       "<style scoped>\n",
       "    .dataframe tbody tr th:only-of-type {\n",
       "        vertical-align: middle;\n",
       "    }\n",
       "\n",
       "    .dataframe tbody tr th {\n",
       "        vertical-align: top;\n",
       "    }\n",
       "\n",
       "    .dataframe thead th {\n",
       "        text-align: right;\n",
       "    }\n",
       "</style>\n",
       "<table border=\"1\" class=\"dataframe\">\n",
       "  <thead>\n",
       "    <tr style=\"text-align: right;\">\n",
       "      <th></th>\n",
       "      <th>SepalLengthCm</th>\n",
       "      <th>SepalWidthCm</th>\n",
       "      <th>PetalLengthCm</th>\n",
       "      <th>PetalWidthCm</th>\n",
       "    </tr>\n",
       "  </thead>\n",
       "  <tbody>\n",
       "    <tr>\n",
       "      <th>48</th>\n",
       "      <td>-5.3</td>\n",
       "      <td>-3.7</td>\n",
       "      <td>-1.5</td>\n",
       "      <td>-0.2</td>\n",
       "    </tr>\n",
       "    <tr>\n",
       "      <th>18</th>\n",
       "      <td>-5.7</td>\n",
       "      <td>-3.8</td>\n",
       "      <td>-1.7</td>\n",
       "      <td>-0.3</td>\n",
       "    </tr>\n",
       "    <tr>\n",
       "      <th>39</th>\n",
       "      <td>-5.1</td>\n",
       "      <td>-3.4</td>\n",
       "      <td>-1.5</td>\n",
       "      <td>-0.2</td>\n",
       "    </tr>\n",
       "    <tr>\n",
       "      <th>6</th>\n",
       "      <td>-4.6</td>\n",
       "      <td>-3.4</td>\n",
       "      <td>-1.4</td>\n",
       "      <td>-0.3</td>\n",
       "    </tr>\n",
       "    <tr>\n",
       "      <th>19</th>\n",
       "      <td>-5.1</td>\n",
       "      <td>-3.8</td>\n",
       "      <td>-1.5</td>\n",
       "      <td>-0.3</td>\n",
       "    </tr>\n",
       "    <tr>\n",
       "      <th>...</th>\n",
       "      <td>...</td>\n",
       "      <td>...</td>\n",
       "      <td>...</td>\n",
       "      <td>...</td>\n",
       "    </tr>\n",
       "    <tr>\n",
       "      <th>54</th>\n",
       "      <td>6.5</td>\n",
       "      <td>2.8</td>\n",
       "      <td>4.6</td>\n",
       "      <td>1.5</td>\n",
       "    </tr>\n",
       "    <tr>\n",
       "      <th>83</th>\n",
       "      <td>6.0</td>\n",
       "      <td>2.7</td>\n",
       "      <td>5.1</td>\n",
       "      <td>1.6</td>\n",
       "    </tr>\n",
       "    <tr>\n",
       "      <th>40</th>\n",
       "      <td>-5.0</td>\n",
       "      <td>-3.5</td>\n",
       "      <td>-1.3</td>\n",
       "      <td>-0.3</td>\n",
       "    </tr>\n",
       "    <tr>\n",
       "      <th>3</th>\n",
       "      <td>-4.6</td>\n",
       "      <td>-3.1</td>\n",
       "      <td>-1.5</td>\n",
       "      <td>-0.2</td>\n",
       "    </tr>\n",
       "    <tr>\n",
       "      <th>46</th>\n",
       "      <td>-5.1</td>\n",
       "      <td>-3.8</td>\n",
       "      <td>-1.6</td>\n",
       "      <td>-0.2</td>\n",
       "    </tr>\n",
       "  </tbody>\n",
       "</table>\n",
       "<p>80 rows × 4 columns</p>\n",
       "</div>"
      ],
      "text/plain": [
       "    SepalLengthCm  SepalWidthCm  PetalLengthCm  PetalWidthCm\n",
       "48           -5.3          -3.7           -1.5          -0.2\n",
       "18           -5.7          -3.8           -1.7          -0.3\n",
       "39           -5.1          -3.4           -1.5          -0.2\n",
       "6            -4.6          -3.4           -1.4          -0.3\n",
       "19           -5.1          -3.8           -1.5          -0.3\n",
       "..            ...           ...            ...           ...\n",
       "54            6.5           2.8            4.6           1.5\n",
       "83            6.0           2.7            5.1           1.6\n",
       "40           -5.0          -3.5           -1.3          -0.3\n",
       "3            -4.6          -3.1           -1.5          -0.2\n",
       "46           -5.1          -3.8           -1.6          -0.2\n",
       "\n",
       "[80 rows x 4 columns]"
      ]
     },
     "execution_count": 114,
     "metadata": {},
     "output_type": "execute_result"
    }
   ],
   "source": [
    "len(X_train)\n",
    "y_train.shape\n",
    "for i in range(m0):\n",
    "    if y_train.iloc[i] ==0:\n",
    "        X_train.iloc[i] = X_train.iloc[i]*(-1)\n",
    "X_train\n",
    "#Z = matrix(X_train.iloc[i])\n",
    "#print(Z)"
   ]
  },
  {
   "cell_type": "code",
   "execution_count": 115,
   "metadata": {
    "colab": {
     "base_uri": "https://localhost:8080/"
    },
    "id": "o_2FxSEuttp2",
    "outputId": "41ad988d-fa11-4500-b3f1-17c4f607b7d4"
   },
   "outputs": [
    {
     "name": "stdout",
     "output_type": "stream",
     "text": [
      "    SepalLengthCm  SepalWidthCm  PetalLengthCm  PetalWidthCm\n",
      "48            5.3           3.7            1.5           0.2\n",
      "18            5.7           3.8            1.7           0.3\n",
      "39            5.1           3.4            1.5           0.2\n",
      "6             4.6           3.4            1.4           0.3\n",
      "19            5.1           3.8            1.5           0.3\n",
      "..            ...           ...            ...           ...\n",
      "54           -6.5          -2.8           -4.6          -1.5\n",
      "83           -6.0          -2.7           -5.1          -1.6\n",
      "40            5.0           3.5            1.3           0.3\n",
      "3             4.6           3.1            1.5           0.2\n",
      "46            5.1           3.8            1.6           0.2\n",
      "\n",
      "[80 rows x 4 columns]\n"
     ]
    },
    {
     "data": {
      "text/plain": [
       "pandas.core.frame.DataFrame"
      ]
     },
     "execution_count": 115,
     "metadata": {},
     "output_type": "execute_result"
    }
   ],
   "source": [
    "Z= X_train * (-1)\n",
    "print(Z)\n",
    "type(Z)"
   ]
  },
  {
   "cell_type": "code",
   "execution_count": 116,
   "metadata": {
    "colab": {
     "base_uri": "https://localhost:8080/"
    },
    "id": "Cn5TDO9f5YAj",
    "outputId": "c1a1b785-6921-4646-ab37-a9777b1bc7ae"
   },
   "outputs": [
    {
     "data": {
      "text/plain": [
       "cvxopt.base.matrix"
      ]
     },
     "execution_count": 116,
     "metadata": {},
     "output_type": "execute_result"
    }
   ],
   "source": [
    "G = matrix(Z.to_numpy())\n",
    "type(G)\n",
    "#print(G)"
   ]
  },
  {
   "cell_type": "code",
   "execution_count": 117,
   "metadata": {
    "id": "834JZ3FxtXBe"
   },
   "outputs": [],
   "source": [
    "from cvxopt import matrix, solvers\n"
   ]
  },
  {
   "cell_type": "code",
   "execution_count": 118,
   "metadata": {
    "colab": {
     "base_uri": "https://localhost:8080/"
    },
    "id": "97xAgKoPsZkM",
    "outputId": "56aeba83-ac55-4fdf-e75b-f3ce8ca8e3aa"
   },
   "outputs": [
    {
     "name": "stdout",
     "output_type": "stream",
     "text": [
      "     pcost       dcost       gap    pres   dres\n",
      " 0:  2.6743e-01  8.8073e+00  2e+02  2e+00  2e+02\n",
      " 1:  1.6865e+00 -1.3132e+01  2e+01  1e-01  2e+01\n",
      " 2:  1.4695e+00  2.0248e-01  1e+00  4e-16  6e-15\n",
      " 3:  9.8357e-01  5.6215e-01  4e-01  6e-16  9e-15\n",
      " 4:  9.1214e-01  8.2108e-01  9e-02  4e-16  2e-13\n",
      " 5:  8.9410e-01  8.9061e-01  3e-03  4e-16  6e-14\n",
      " 6:  8.9370e-01  8.9360e-01  1e-04  4e-16  2e-12\n",
      " 7:  8.9369e-01  8.9368e-01  7e-06  4e-16  4e-12\n",
      " 8:  8.9369e-01  8.9369e-01  7e-08  4e-16  3e-12\n",
      "Optimal solution found.\n"
     ]
    }
   ],
   "source": [
    "sol =solvers.qp(P,Q,G,H)\n",
    "hyperplane= pd.Series(sol['x'])\n"
   ]
  },
  {
   "cell_type": "code",
   "execution_count": 119,
   "metadata": {
    "colab": {
     "base_uri": "https://localhost:8080/"
    },
    "id": "poXYd2Ef8Fl-",
    "outputId": "b140187e-e378-413e-9a34-e1ab4bdc28a5"
   },
   "outputs": [
    {
     "name": "stdout",
     "output_type": "stream",
     "text": [
      "0   -0.418546\n",
      "1   -0.306714\n",
      "2    1.089391\n",
      "3    0.575631\n",
      "dtype: float64\n"
     ]
    }
   ],
   "source": [
    "\n",
    "print(hyperplane)"
   ]
  },
  {
   "cell_type": "code",
   "execution_count": 120,
   "metadata": {
    "colab": {
     "base_uri": "https://localhost:8080/"
    },
    "id": "zzG2cfsv8Fw4",
    "outputId": "796a7eca-8514-48b5-e088-f8406b11988a"
   },
   "outputs": [
    {
     "data": {
      "text/plain": [
       "pandas.core.series.Series"
      ]
     },
     "execution_count": 120,
     "metadata": {},
     "output_type": "execute_result"
    }
   ],
   "source": [
    "type(hyperplane)"
   ]
  },
  {
   "cell_type": "code",
   "execution_count": 121,
   "metadata": {
    "colab": {
     "base_uri": "https://localhost:8080/"
    },
    "id": "vkUT6ybt8F7u",
    "outputId": "d5e5fb97-2abe-41ef-bfe7-a265eb8a034e"
   },
   "outputs": [
    {
     "data": {
      "text/plain": [
       "pandas.core.frame.DataFrame"
      ]
     },
     "execution_count": 121,
     "metadata": {},
     "output_type": "execute_result"
    }
   ],
   "source": [
    "type(X_train)"
   ]
  },
  {
   "cell_type": "code",
   "execution_count": 122,
   "metadata": {
    "id": "BAID-eBg8GG1"
   },
   "outputs": [],
   "source": [
    "xtrain = matrix(X_train.to_numpy())"
   ]
  },
  {
   "cell_type": "code",
   "execution_count": 123,
   "metadata": {
    "colab": {
     "base_uri": "https://localhost:8080/"
    },
    "id": "sBxA-woSDO22",
    "outputId": "6651a5cc-ba10-4545-d4ea-93977ae2386b"
   },
   "outputs": [
    {
     "data": {
      "text/plain": [
       "cvxopt.base.matrix"
      ]
     },
     "execution_count": 123,
     "metadata": {},
     "output_type": "execute_result"
    }
   ],
   "source": [
    "type(xtrain)"
   ]
  },
  {
   "cell_type": "code",
   "execution_count": 124,
   "metadata": {
    "id": "kpcOHXXCG9cm"
   },
   "outputs": [],
   "source": [
    "result = matrix(np.zeros((80,1)))\n"
   ]
  },
  {
   "cell_type": "code",
   "execution_count": 125,
   "metadata": {
    "colab": {
     "base_uri": "https://localhost:8080/"
    },
    "id": "gETtfdivJo9E",
    "outputId": "c12bf1e3-f002-4c51-d10c-473d306074d1"
   },
   "outputs": [
    {
     "name": "stdout",
     "output_type": "stream",
     "text": [
      "0   -0.418546\n",
      "1   -0.306714\n",
      "2    1.089391\n",
      "3    0.575631\n",
      "dtype: float64\n"
     ]
    }
   ],
   "source": [
    "#print(xtrain)\n",
    "print(hyperplane)"
   ]
  },
  {
   "cell_type": "code",
   "execution_count": 126,
   "metadata": {
    "colab": {
     "base_uri": "https://localhost:8080/"
    },
    "id": "jnuetTA9DO6B",
    "outputId": "3facfb9b-96eb-4ec9-b13b-1e666f116949"
   },
   "outputs": [
    {
     "name": "stdout",
     "output_type": "stream",
     "text": [
      "[1.60392078 1.52656912 1.42819749 1.27030053 1.49331983 2.70113111\n",
      " 1.74715097 1.1622775  2.38462124 1.94992594 2.50170969 1.7423148\n",
      " 1.09079763 2.3300516  1.94824899 2.26916898 1.3464505  1.00695846\n",
      " 1.         1.335883   2.23202524 1.20533361 1.29175087 1.64577537\n",
      " 1.07782261 1.87091247 1.68234397 2.01471781 1.37245159 1.33074196\n",
      " 1.         2.49595311 1.84413556 1.9508269  2.3649627  2.04994425\n",
      " 1.97031505 2.39896834 1.51024486 2.04858281 1.43680262 2.40607158\n",
      " 2.48342324 1.438635   1.00000018 1.96034831 1.26652092 2.19936175\n",
      " 1.56780799 1.19369458 2.36268517 2.79784093 1.46399494 1.31003733\n",
      " 1.09049725 1.82496293 1.3863429  1.31003733 1.86453981 2.04932853\n",
      " 1.31003733 2.34381274 2.10553022 2.39215484 1.80987011 1.55662477\n",
      " 1.41731465 1.73476606 1.50072345 1.56826379 2.09844195 2.22851608\n",
      " 2.81430997 1.23040813 1.15471828 2.29530025 3.13750336 1.5773294\n",
      " 1.12691042 1.44194384]\n"
     ]
    }
   ],
   "source": [
    "res=np.dot(X_train,hyperplane)\n",
    "result = np.where(res==np.amin(res))\n",
    "\n",
    "print(res)\n",
    "\n",
    "\n",
    "\n",
    "\n"
   ]
  },
  {
   "cell_type": "code",
   "execution_count": 127,
   "metadata": {
    "colab": {
     "base_uri": "https://localhost:8080/"
    },
    "id": "sKI3LWS0DO9l",
    "outputId": "cc2fc7f3-c1bb-4885-e182-bd3c5f09743c"
   },
   "outputs": [
    {
     "data": {
      "text/plain": [
       "80"
      ]
     },
     "execution_count": 127,
     "metadata": {},
     "output_type": "execute_result"
    }
   ],
   "source": [
    "r=0\n",
    "for i in range(80) :\n",
    "  if ((res[i]>1)):\n",
    "    r=r+1\n",
    "r   \n",
    "\n",
    "      \n"
   ]
  },
  {
   "cell_type": "code",
   "execution_count": 128,
   "metadata": {
    "colab": {
     "base_uri": "https://localhost:8080/"
    },
    "id": "nMkYP3NjDPAj",
    "outputId": "bf4bd336-2bac-44a6-d1d9-e93429d41665"
   },
   "outputs": [
    {
     "name": "stdout",
     "output_type": "stream",
     "text": [
      "20\n"
     ]
    },
    {
     "data": {
      "text/plain": [
       "array([ 1.69395756, -1.57899121, -1.46461066,  1.68369044, -1.23132423,\n",
       "        2.10764802,  2.15178014,  1.82330094,  2.03709921, -1.10168047,\n",
       "        1.78644244, -0.86687719, -1.84416548,  1.38363481, -1.37411358,\n",
       "       -1.65181755,  1.77117923, -1.40508533,  2.58541887,  1.91666152])"
      ]
     },
     "execution_count": 128,
     "metadata": {},
     "output_type": "execute_result"
    }
   ],
   "source": [
    "restest=np.dot(X_test,hyperplane)\n",
    "s=0\n",
    "for i in range(len(X_test)) :\n",
    "  if ((restest[i]<0) & (y_test.iloc[i]==0)):\n",
    "    s=s+1\n",
    "  if ((restest[i]>0) & (y_test.iloc[i]>0)):\n",
    "    s=s+1\n",
    "print(s)\n",
    "restest"
   ]
  },
  {
   "cell_type": "code",
   "execution_count": 129,
   "metadata": {
    "colab": {
     "base_uri": "https://localhost:8080/"
    },
    "id": "jbnXNcd_4EA3",
    "outputId": "5e0de40c-c8c0-438d-a197-b422e20f8e5d"
   },
   "outputs": [
    {
     "data": {
      "text/plain": [
       "100.0"
      ]
     },
     "execution_count": 129,
     "metadata": {},
     "output_type": "execute_result"
    }
   ],
   "source": [
    "accuracy_train = ((r/len(X_train)) * 100)\n",
    "accuracy_train"
   ]
  },
  {
   "cell_type": "code",
   "execution_count": 130,
   "metadata": {
    "colab": {
     "base_uri": "https://localhost:8080/"
    },
    "id": "F2tnIAeV4EEj",
    "outputId": "6cbb5fdb-a7f6-4866-85b3-dac597b81fb1"
   },
   "outputs": [
    {
     "data": {
      "text/plain": [
       "100.0"
      ]
     },
     "execution_count": 130,
     "metadata": {},
     "output_type": "execute_result"
    }
   ],
   "source": [
    "accuracy_test = ((s/len(X_test)) * 100)\n",
    "accuracy_train"
   ]
  },
  {
   "cell_type": "code",
   "execution_count": 130,
   "metadata": {
    "id": "DjpglE6j4EH_"
   },
   "outputs": [],
   "source": []
  },
  {
   "cell_type": "code",
   "execution_count": 130,
   "metadata": {
    "id": "lTt9kL2c4ELS"
   },
   "outputs": [],
   "source": []
  }
 ],
 "metadata": {
  "colab": {
   "collapsed_sections": [],
   "name": "Copy of Overview of Colaboratory Features",
   "provenance": [],
   "toc_visible": true
  },
  "kernelspec": {
   "display_name": "Python 3",
   "language": "python",
   "name": "python3"
  },
  "language_info": {
   "codemirror_mode": {
    "name": "ipython",
    "version": 3
   },
   "file_extension": ".py",
   "mimetype": "text/x-python",
   "name": "python",
   "nbconvert_exporter": "python",
   "pygments_lexer": "ipython3",
   "version": "3.8.8"
  }
 },
 "nbformat": 4,
 "nbformat_minor": 1
}
